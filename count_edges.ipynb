{
 "cells": [
  {
   "cell_type": "code",
   "execution_count": 7,
   "metadata": {},
   "outputs": [],
   "source": [
    "import csv\n",
    "import os"
   ]
  },
  {
   "cell_type": "code",
   "execution_count": 10,
   "metadata": {},
   "outputs": [],
   "source": [
    "BASELINE_EDGES_PATH = os.path.abspath(\"./data/input/edges_191120.csv\")\n",
    "\n",
    "INGR_CTX_EDGES_PATH = os.path.abspath(\"./data/output/simple_recipe_ingredient_graph/edges_191120.csv\")\n",
    "SMPL_INSTR_CTX_EDGES_PATH = os.path.abspath(\"./data/output/simple_recipe_with_context_simple_instructions/edges_191120.csv\")\n",
    "CMPLX_INSTR_CTX_EDGES_PATH = os.path.abspath(\"./data/output/simple_recipe_with_context_structured_instructions/edges.csv\")\n",
    "CPMLX_INSTR_REDUCED_CTX_EDGES_PATH = os.path.abspath(\"./data/output/simple_recipe_with_context_structured_instructions_arc/edges_191120.csv\")\n",
    "\n",
    "CMPLX_INSTR_CTX_NODES_PATH = os.path.abspath(\"./data/output/simple_recipe_with_context_structured_instructions/nodes.csv\")"
   ]
  },
  {
   "cell_type": "code",
   "execution_count": 4,
   "metadata": {},
   "outputs": [
    {
     "name": "stdout",
     "output_type": "stream",
     "text": [
      "{'ingr-fcomp': 35440, 'ingr-dcomp': 384, 'rec-ingr': 438378}\n",
      "total edge count: 474202\n"
     ]
    }
   ],
   "source": [
    "not_counted_edge_types = []\n",
    "\n",
    "ingredient_ctx_edges = {\"ingr-fcomp\": 0, \"ingr-dcomp\": 0, \"rec-ingr\": 0}\n",
    "\n",
    "with open(INGR_CTX_EDGES_PATH, 'r') as csvfile:\n",
    "    csv_reader = csv.reader(csvfile)\n",
    "    for row in csv_reader:\n",
    "        edge_type = row[3]\n",
    "        if edge_type == \"edge_type\":\n",
    "            continue\n",
    "        if edge_type not in list(ingredient_ctx_edges) and edge_type not in not_counted_edge_types:\n",
    "            not_counted_edge_types.append(edge_type)\n",
    "            print(edge_type)\n",
    "        else:\n",
    "            ingredient_ctx_edges[edge_type] += 1\n",
    "\n",
    "print(ingredient_ctx_edges)\n",
    "\n",
    "total = 0\n",
    "for key, val in ingredient_ctx_edges.items():\n",
    "    total+= val\n",
    "\n",
    "print(f\"total edge count: {total}\")"
   ]
  },
  {
   "cell_type": "code",
   "execution_count": 5,
   "metadata": {},
   "outputs": [
    {
     "name": "stdout",
     "output_type": "stream",
     "text": [
      "{'ingr-fcomp': 35440, 'ingr-dcomp': 384, 'rec-ingr': 438378}\n",
      "total edge count: 474202\n"
     ]
    }
   ],
   "source": [
    "ingredient_ctx_edges = {\"ingr-fcomp\": 0, \"ingr-dcomp\": 0, \"rec-ingr\": 0}\n",
    "\n",
    "with open(INGR_CTX_EDGES_PATH, 'r') as csvfile:\n",
    "    csv_reader = csv.reader(csvfile)\n",
    "    for row in csv_reader:\n",
    "        edge_type = row[3]\n",
    "        if edge_type == \"edge_type\":\n",
    "            continue\n",
    "        if edge_type not in list(ingredient_ctx_edges) and edge_type not in not_counted_edge_types:\n",
    "            not_counted_edge_types.append(edge_type)\n",
    "            print(edge_type)\n",
    "        else:\n",
    "            ingredient_ctx_edges[edge_type] += 1\n",
    "\n",
    "print(ingredient_ctx_edges)\n",
    "\n",
    "total = 0\n",
    "for key, val in ingredient_ctx_edges.items():\n",
    "    total+= val\n",
    "\n",
    "print(f\"total edge count: {total}\")"
   ]
  },
  {
   "cell_type": "code",
   "execution_count": 26,
   "metadata": {},
   "outputs": [
    {
     "name": "stdout",
     "output_type": "stream",
     "text": [
      "{'ingr-fcomp': 35440, 'ingr-dcomp': 384, 'rec-ingr': 438378, 'rec-act': 781777, 'ingr-act': 196272}\n",
      "total edge count: 1452251\n"
     ]
    }
   ],
   "source": [
    "smpl_instr_ctx_edges = {\"ingr-fcomp\": 0, \"ingr-dcomp\": 0, \"rec-ingr\": 0, \"rec-act\": 0, \"ingr-act\": 0}\n",
    "\n",
    "with open(SMPL_INSTR_CTX_EDGES_PATH, 'r') as csvfile:\n",
    "    csv_reader = csv.reader(csvfile)\n",
    "    for row in csv_reader:\n",
    "        edge_type = row[3]\n",
    "        if edge_type == \"edge_type\":\n",
    "            continue\n",
    "        if edge_type not in list(smpl_instr_ctx_edges) and edge_type not in not_counted_edge_types:\n",
    "            not_counted_edge_types.append(edge_type)\n",
    "            print(edge_type)\n",
    "        else:\n",
    "            smpl_instr_ctx_edges[edge_type] += 1\n",
    "\n",
    "print(smpl_instr_ctx_edges)\n",
    "\n",
    "total = 0\n",
    "for key, val in smpl_instr_ctx_edges.items():\n",
    "    total+= val\n",
    "\n",
    "print(f\"total edge count: {total}\")"
   ]
  },
  {
   "cell_type": "code",
   "execution_count": 27,
   "metadata": {},
   "outputs": [
    {
     "name": "stdout",
     "output_type": "stream",
     "text": [
      "{'ingr-fcomp': 35440, 'ingr-dcomp': 384, 'rec-ingr': 438378, 'rec-act': 0, 'ingr-act': 0, 'step-act': 781777, 'step-step': 957702, 'ingr-step': 430361, 'step-rec': 44428}\n",
      "total edge count: 2688470\n"
     ]
    }
   ],
   "source": [
    "cmplx_instr_ctx_edges = {\"ingr-fcomp\": 0, \"ingr-dcomp\": 0, \"rec-ingr\": 0, \"rec-act\": 0, \"ingr-act\": 0, \"step-act\": 0, \"step-step\": 0, \"ingr-step\": 0, \"step-rec\": 0}\n",
    "\n",
    "with open(CMPLX_INSTR_CTX_EDGES_PATH, 'r') as csvfile:\n",
    "    csv_reader = csv.reader(csvfile)\n",
    "    for row in csv_reader:\n",
    "        edge_type = row[3]\n",
    "        if edge_type == \"edge_type\":\n",
    "            continue\n",
    "        if edge_type not in list(cmplx_instr_ctx_edges) and edge_type not in not_counted_edge_types:\n",
    "            not_counted_edge_types.append(edge_type)\n",
    "            print(edge_type)\n",
    "        else:\n",
    "            cmplx_instr_ctx_edges[edge_type] += 1\n",
    "\n",
    "print(cmplx_instr_ctx_edges)\n",
    "\n",
    "total = 0\n",
    "for key, val in cmplx_instr_ctx_edges.items():\n",
    "    total+= val\n",
    "\n",
    "print(f\"total edge count: {total}\")"
   ]
  },
  {
   "cell_type": "code",
   "execution_count": 28,
   "metadata": {},
   "outputs": [
    {
     "name": "stdout",
     "output_type": "stream",
     "text": [
      "{'ingr-fcomp': 35440, 'ingr-dcomp': 384, 'rec-ingr': 4125, 'rec-act': 0, 'ingr-act': 0, 'step-act': 7858, 'step-step': 9617, 'ingr-step': 4062, 'step-rec': 448}\n",
      "total edge count: 61934\n"
     ]
    }
   ],
   "source": [
    "cmplx_instr_ctx_arc_edges = {\"ingr-fcomp\": 0, \"ingr-dcomp\": 0, \"rec-ingr\": 0, \"rec-act\": 0, \"ingr-act\": 0, \"step-act\": 0, \"step-step\": 0, \"ingr-step\": 0, \"step-rec\": 0}\n",
    "\n",
    "with open(CPMLX_INSTR_REDUCED_CTX_EDGES_PATH, 'r') as csvfile:\n",
    "    csv_reader = csv.reader(csvfile)\n",
    "    for row in csv_reader:\n",
    "        edge_type = row[3]\n",
    "        if edge_type == \"edge_type\":\n",
    "            continue\n",
    "        if edge_type not in list(cmplx_instr_ctx_arc_edges) and edge_type not in not_counted_edge_types:\n",
    "            not_counted_edge_types.append(edge_type)\n",
    "            print(edge_type)\n",
    "        else:\n",
    "            cmplx_instr_ctx_arc_edges[edge_type] += 1\n",
    "\n",
    "print(cmplx_instr_ctx_arc_edges)\n",
    "\n",
    "total = 0\n",
    "for key, val in cmplx_instr_ctx_arc_edges.items():\n",
    "    total+= val\n",
    "\n",
    "print(f\"total edge count: {total}\")"
   ]
  },
  {
   "cell_type": "code",
   "execution_count": 32,
   "metadata": {},
   "outputs": [
    {
     "name": "stdout",
     "output_type": "stream",
     "text": [
      "{'ingr-ingr': 30962, 'ingr-fcomp': 11493, 'ingr-dcomp': 663, 'rec-ingr': 0, 'rec-act': 0, 'ingr-act': 0, 'step-act': 0, 'step-step': 0, 'ingr-step': 0, 'step-rec': 0}\n",
      "total edge count: 43118\n"
     ]
    }
   ],
   "source": [
    "RING_PATH = os.path.abspath(\"...\")\n",
    "\n",
    "ring_edges = {\"ingr-ingr\": 0, \"ingr-fcomp\": 0, \"ingr-dcomp\": 0, \"rec-ingr\": 0, \"rec-act\": 0, \"ingr-act\": 0, \"step-act\": 0, \"step-step\": 0, \"ingr-step\": 0, \"step-rec\": 0}\n",
    "\n",
    "with open(RING_PATH, 'r') as csvfile:\n",
    "    csv_reader = csv.reader(csvfile)\n",
    "    for row in csv_reader:\n",
    "        edge_type = row[3]\n",
    "        if edge_type == \"edge_type\":\n",
    "            continue\n",
    "        if edge_type not in list(ring_edges) and edge_type not in not_counted_edge_types:\n",
    "            not_counted_edge_types.append(edge_type)\n",
    "            print(edge_type)\n",
    "        else:\n",
    "            ring_edges[edge_type] += 1\n",
    "\n",
    "print(ring_edges)\n",
    "\n",
    "total = 0\n",
    "for key, val in ring_edges.items():\n",
    "    total+= val\n",
    "\n",
    "print(f\"total edge count: {total}\")"
   ]
  },
  {
   "cell_type": "code",
   "execution_count": 15,
   "metadata": {},
   "outputs": [
    {
     "name": "stdout",
     "output_type": "stream",
     "text": [
      "node_type\n",
      "{'ingredient': 6653, 'compound': 1645, 'action': 4354, 'step': 781777, 'recipe': 44429}\n"
     ]
    }
   ],
   "source": [
    "node_types = {\"ingredient\": 0, \"compound\": 0, \"action\": 0, \"step\": 0, \"recipe\": 0}\n",
    "not_counted_node_types = []\n",
    "\n",
    "with open(CMPLX_INSTR_CTX_NODES_PATH, \"r\") as cpl_instr_file:\n",
    "    csv_reader = csv.reader(cpl_instr_file)\n",
    "    for row in csv_reader:\n",
    "        node_type = row[3]\n",
    "        if node_type not in not_counted_node_types and node_type not in list(node_types.keys()):\n",
    "            print(node_type)\n",
    "            not_counted_node_types.append(node_type)\n",
    "        else:\n",
    "            node_types[node_type] += 1\n",
    "\n",
    "print(node_types)"
   ]
  },
  {
   "cell_type": "code",
   "execution_count": null,
   "metadata": {},
   "outputs": [],
   "source": []
  }
 ],
 "metadata": {
  "kernelspec": {
   "display_name": "foodrecommnederscrapbooks",
   "language": "python",
   "name": "python3"
  },
  "language_info": {
   "codemirror_mode": {
    "name": "ipython",
    "version": 3
   },
   "file_extension": ".py",
   "mimetype": "text/x-python",
   "name": "python",
   "nbconvert_exporter": "python",
   "pygments_lexer": "ipython3",
   "version": "3.11.4"
  }
 },
 "nbformat": 4,
 "nbformat_minor": 2
}
